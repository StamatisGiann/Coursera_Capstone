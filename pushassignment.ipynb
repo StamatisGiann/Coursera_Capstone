#H1 This notebook will be mainly used for the Capstone Project
import pandas as pd
Import numpy as np
print('Hello Capstone Project Course!')
