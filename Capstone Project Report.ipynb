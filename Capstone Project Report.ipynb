{
 "cells": [
  {
   "cell_type": "markdown",
   "metadata": {
    "collapsed": true
   },
   "source": [
    "<a id='Top'></a>\n",
    "# IBM Applied Data Science Capstone Project\n",
    "## Week 5 Report\n",
    "\n",
    "### Project Title: Clustering for Similarities in NYC & Toronto<br><br>\n",
    "#### Table of Contents\n",
    "1. [Introduction & Problem Statement](#PartOne)\n",
    "2. [Data Acquisition & Preparation](#PartTwo)\n",
    "3. [Methodology & EDA](#PartThree)\n",
    "4. [Results & Discussion](#PartFour)\n",
    "3. [Conclusion](#PartFive)"
   ]
  },
  {
   "cell_type": "markdown",
   "metadata": {},
   "source": [
    "<a id='PartOne'></a>\n",
    "****\n",
    "#### 1. Introduction & Problem Statement\n",
    "****\n",
    "\n",
    "##### 1.1 Introduction\n",
    "During this long voyage through IBM's Professional Certificate track, we've learned so much about the whole notion of using the data all around us to create stories and say something meaningful with them. This is my attempt at exactly that.\n",
    "In this Capstone Project, we will try and visualize, in different ways while using different techniques, the similarities between NYC and Toronto.\n",
    "New York City (NYC) is one of the most populous cities in the USA, having a wide range of diversity, be it cultural or otherwise. Also, we are looking at one of the most powerful states, in economic terms. Besides her ilustrious fame, acquired with the exposure in so many mediums (TV shows, movies, etc), her beauty makes her one of the most visited places in the world, for the past several years. In Nyc we have five (5) boroughs: Manhattan, Staten Island, Queens, Brooklyn and the Bronx.\n",
    "Toronto shares many of NYC's characteristics, from the get-go. Also, the most populous city in Canada, as well as being one of it's most powerful centers for businesses, manufacturing etc. Here, in Toronto, things might be a lot more toned down compared to NYC, but it's beauty is still there for travellers to enjoy.\n",
    "\n",
    "##### 1.2 Problem Statement\n",
    "Using data wragling techniques and location data we will study, analyze, cluster and compare the neighbourhoods of NYC and Toronto. We will dive headlong into the data at hand, using most of the techniques passed on to us throughout this course and try to see the similarities between the two cities. <br>\n",
    "The provided analysis and conclusion will give a better understanding to anyone interested, be it a business enthusiast, an avid traveller or just a data fan, as to what makes these two cities \"identical\" (may be a strong word!), or \"unique\"!\n",
    "We will be using our newfound techniques in order to see whether these two cities, NYC and Toronto, have similarities betwenn their Neighbourhoods. This will provide insights that can be applied in various situations. <br>\n",
    "If we're looking at this from a business perspective, let's say we have a successful business in either one cities neighbourhood; using these tools, we can get a first glance at some potential candidate locations in the other city.<br>\n",
    "The same principles can be applied even if we are just travellers, students, employees or anything for that matter, just looking how to manage a city transition between these two. Nothing feels better than home, but if, say, we have to move from NYC to Toronto (or vice versa) this can help make this big change more tolerable. <br>\n",
    "I hope you enjoy our journey!\n",
    "<br><br><br>\n",
    "[Back to top](#Top)"
   ]
  },
  {
   "attachments": {},
   "cell_type": "markdown",
   "metadata": {},
   "source": [
    "<a id='PartTwo'></a>\n",
    "*****\n",
    "#### 2. Data Acquisition & Preparation\n",
    "*****\n",
    "\n",
    "##### 2.1 Data Acquisition\n",
    "We have in our disposal two basic data structures to handle; the first being our 'Neighbourhood Data' and the second, our 'Venues Data'.\n",
    "- **A. Neighbourhood Data**\n",
    "<br>\n",
    "<i> Example location data in json format</i>\n",
    "\n",
    "<img src=\"Images/jsonlocdata.jpg\">\n",
    "The datasets used for our two cities came from two (2) different sources; for NYC, they were provided by the staff of IBM's \"Data Science Professional Certificate\" and for Toronto, internet scraping was used. For both, the data acquired consist of major, albeit basic, information such as Neighbourhood, Borough, Latitude and Longitude coordinates.\n",
    "- **B. Venues Data**\n",
    "\n",
    "Here we used FourSquare's API to obtain information about the venues in our cities' neighbourhoods. They consist of many different information fields, but using the right code parameters, we got just the needed fields. FourSquare is one of the largest location and venue data sources and their API was utilized to demonstrate our project idea.<br>\n",
    "<i> Example of the returned venues data, before any manipulation </i><br>\n",
    "\n",
    "<img src=\"Images/venuedata.jpg\">\n",
    "<br><br><br>\n",
    "[Back to top](#Top)"
   ]
  },
  {
   "attachments": {},
   "cell_type": "markdown",
   "metadata": {},
   "source": [
    "##### 2.2 Data Preparation\n",
    "\n",
    "\n",
    "**A. Neighbourhood data**  \n",
    " - ***New York City***  \n",
    " As stated above, the dataset for NYC's neighbourhoods were provided by the course's staff. It came in a <i>.json</i> format file, with all the required information we need to divide up the city by it's inner territories. Storing the data in a <i>Panda's Dataframe</i> with the the needed data wrangling techniques, gave us the desired result. With the final data at hand, we are now able to \"explore\" NYC's neighbourhoods, at least in a basic, for now, way.\n",
    " \n",
    "<i> Example of the NYC data with coords </i><br>\n",
    "<img src=\"Images/nyfirstdata.jpg\">\n",
    "\n",
    " \n",
    " - ***Toronto***  \n",
    " For Toronto, we had to get our hands more \"dirty\", in order to compile the desired data structure. The information was provided via the Wikipedia page for Toronto's neighbourhoods ([wiki link](https://en.wikipedia.org/w/index.php?title=List_of_postal_codes_of_Canada:_M&oldid=942851379)), but on an earlier version state than the current, because of the data format used now on the wiki page, being incompatible for scraping <i>(or at least our current techniques!)</i>. This came, as epected, in <i>.html</i> format. Next, using a dataset provided yet again by the course's staff containing each of Toronto's neighbourhood' corresponding Post Code along with their respective lat/lng coordinates, in <i>.csv</i> format. Combining the two sets with the proper parameters and cleaning, the desired data structure was at our disposal.<br>\n",
    " \n",
    "<i> Example of the Toronto data with coords </i><br>\n",
    "<img src=\"Images/torontofirstdata.jpg\">\n",
    "<br><br><br>\n",
    "[Back to top](#Top)"
   ]
  },
  {
   "attachments": {},
   "cell_type": "markdown",
   "metadata": {},
   "source": [
    "**A. Venues data**  \n",
    "\n",
    "The FourSquare API provided us with a large amount of venue information about our two cities. With the proper keys to use this API (as most API's need nowadays), and the right code to \"hit\" those calls succesfully towards the API, we gathered our information.\n",
    "Retrieving data and then going through all the notions to get them in the format that is needed can be a long and arduous procedure. Here comes the power of Python and its Object Oriented nature. We were able to combine the knowledge and techniques acquired through the entire specialization, in order to define 3 major functions in our code, that ultimately gave us the ability to reach our end-goal with as little as 1 line of code!\n",
    "\n",
    "\n",
    "<i>The final piece of one-line code, calling all the internal functions</i><br>\n",
    "<img src=\"Images/finalfunctioncall.jpg\">\n",
    "\n",
    "In further detail, first we defined the proper way to \"talk\" to FourSquare <i>(function get_near_by_venues)</i> and retrieve the basic data for our Venues, Venue Name & Category and lat/lng coordinates, in respect to their neighbourhoods.\n",
    "\n",
    "\n",
    "<i>the 1st function in line, gets us the venue data</i>\n",
    "<img src=\"Images/function1.jpg\">\n",
    "\n",
    "Then, defining our one-hot encoding techniques and data normalization, the data now are grouped and transformed in a way that is easier for us to understand and manipulate further. <i>(functions explore_borough and return_venues_for_boroughs)</i>\n",
    "\n",
    "\n",
    "<i>The 2 next pieces of predefined code functions, completing our functions</i>\n",
    "<img src=\"Images/function2.jpg\"><img src=\"Images/function3.jpg\">\n",
    "\n",
    "\n",
    "Finally, both datasets were in a format that was not just aligned to one another, but also provided useful information, again, within a few lines of code and the backing power of Python and Object Oriented Programming Design, with the use of functions to be used generally and on the spot.\n",
    " \n",
    " \n",
    "<i>Our returned data, with a simple line of code</i>\n",
    "<img src=\"Images/functionsdatareturn.jpg\">\n",
    " \n",
    "This is our first, brave step, towards our end-goal.    \n",
    "Getting our idea, around the data provided around us, then using the proper skillset and techniques, <i>(also provided abundantely with the fine example of IBM's courses)</i>, in order to have that idea tell a story.  \n",
    "A Digital Story of a Data Scientist.\n",
    "<br><br><br>\n",
    "[Back to top](#Top)"
   ]
  },
  {
   "cell_type": "markdown",
   "metadata": {},
   "source": [
    "<a id='PartThree'></a>\n",
    "****\n",
    "#### 3. Methodology & EDA\n",
    "****"
   ]
  },
  {
   "cell_type": "markdown",
   "metadata": {},
   "source": [
    "#### 3.1 Methodology\n",
    "<br>\n",
    "In this section we'll discuss the Methods used in order to achieve the end-goal. <br>\n",
    "First of all, we needed to have our two datasets in a similar structure. That is because of the amount of values returned for each city/neighbourhood for Venues. <br><br>\n",
    "<i> Quick glance at the initial dataframes shapes</i><br>\n",
    "<img src=\"Images/origindatashape.jpg\">\n"
   ]
  },
  {
   "cell_type": "markdown",
   "metadata": {},
   "source": [
    "Having roughly **480** venues for NYC and **340** for Toronto, it's clear that direct comparisons would be hard to achieve accurate results.<br>\n",
    "Thus, we applied the following:<br>\n",
    "Using data manipulation techniques in order to group our results in a more consice way, first we used one-hot encoding, in order to have a common variable to compare between values (Venues) in both datasets.<br>\n",
    "<img src=\"Images/onehotcodeex.jpg\"><br>\n",
    "As shown above, the values in each row (Neighbourhood) now are in a scale of 0 to 1, representing the mean value of them all.<br>\n",
    "This enabled us to achieve an even more consice way to represent our data, with an ordered way. Meaning, we could easily extract the Top10 Venues per Neighbourhood.<br><br>\n",
    "<i> Example of the Top10 Tables for each City</i><br>\n",
    "<img src=\"Images/nyctortop10.jpg\"><br>\n",
    "This enables us to use each data set for further, simpler comparison between them. Also, we can explore both sets individually to get more information for each Neighbourhood and bring everything together at the end, with a more impactfull way."
   ]
  },
  {
   "cell_type": "markdown",
   "metadata": {},
   "source": [
    "#### Further Analysis on individual City data"
   ]
  },
  {
   "cell_type": "markdown",
   "metadata": {},
   "source": [
    "We used K-Means Clustering in order to provide more meaningful information about each City and their respective Neighbourhoods. We were able to group together Neighbourhoods with similar venue-structures and this gives us a first glance that things start to come together.<br>\n",
    "Also, a visual representation of the above method, also serves the purpose to get the message across.<br>\n",
    "<br>\n",
    "<i>NYC Map with visual Clusters</i><br>\n",
    "<img src=\"Images/nyckmeansmap.jpg\"><br>\n",
    "<br>\n",
    "<i>Toronto Map with visual Clusters</i><br>\n",
    "<img src=\"Images/torkmeansmap.jpg\"><br>\n",
    "<br><br><br>\n",
    "[Back to top](#Top)"
   ]
  },
  {
   "cell_type": "markdown",
   "metadata": {},
   "source": [
    "#### 3.2 EDA"
   ]
  },
  {
   "cell_type": "markdown",
   "metadata": {},
   "source": [
    "As we dive deeper into the data presented, we can start to present more visual aids to explore further on.<br>\n",
    "###### Note:\n",
    "<i> As this project was executed during the time of the pandemic of COVID-19, and effectivelly, a global lockdown, the  results can be recalculated and further analyzed at a later time, to provide more insights</i>"
   ]
  },
  {
   "cell_type": "markdown",
   "metadata": {},
   "source": [
    "* Here, we can see how many Venues per category, in pure numbers, exist in our cities.<br><br>\n",
    "<i> NYC Most Common Venues</i>\n",
    "<img src=\"Images/nycvenuesbar.jpg\"><br>\n",
    "<br>\n",
    "<i> Toronto Most Common Venues</i>\n",
    "<img src=\"Images/torvenuesbar.jpg\"><br><br>"
   ]
  },
  {
   "cell_type": "markdown",
   "metadata": {},
   "source": [
    "* Below we can see in how many Neighbourhoods each Venue category is found.<br><br>\n",
    "<i> NYC Most Common Venues Neighbourhood appearance</i>\n",
    "<img src=\"Images/nycvenuesneighbbar.jpg\"><br>\n",
    "<br>\n",
    "<i> Toronto Most Common Venues Neighbourhood appearance</i>\n",
    "<img src=\"Images/torvenuesneighbbar.jpg\"><br><br>"
   ]
  },
  {
   "cell_type": "markdown",
   "metadata": {},
   "source": [
    "* Following the same direction, let's visualize the top Venues for both cities, combined.<br><br>\n",
    "<i> NYC & Toronto Most Common Venues</i>\n",
    "<img src=\"Images/nyctorvenuesbar.jpg\"><br>\n",
    "<br><br>\n",
    "[Back to top](#Top)"
   ]
  },
  {
   "cell_type": "markdown",
   "metadata": {},
   "source": [
    "<a id='PartFour'></a>\n",
    "****\n",
    "#### 4. Results & Discussion\n",
    "****"
   ]
  },
  {
   "cell_type": "markdown",
   "metadata": {},
   "source": [
    "#### 4.1 Results<br>\n",
    "******\n",
    "**Note:**<br>\n",
    "<i>As we approach the subject more and more, it's apparend that the impact from the current global lockdown due to the pandemic is messing with our data. <br>\n",
    "Well, to be more precise, and honest towards the data, they are actually showing us the 'current image' of the two cities, thus being more aligned with the times we are going through.<br>\n",
    "There is a strong urge to follow up this analysis when we are, once again, in a more 'normal' day-to-day life-cycle, as  a whole.</i>\n",
    "*****\n",
    "<br><br>\n",
    "Other than that, using everything we have so far, we can, finally, combine our two sets, with their Top10 Venues and cluster them all together to really get the idea of how similar (or not!) our two cities neighbourhoods' are."
   ]
  },
  {
   "cell_type": "markdown",
   "metadata": {},
   "source": [
    "* Using K-Means clustering techniques, we have our now complete data set from both cities and their clustering, as shown below. <br>\n",
    "<i>The Neighbourhoods can be destinquished from their suffix.</i><br><br>\n",
    "<i> Example of the combined and structured data set</i><br>\n",
    "<img src=\"Images/bothtop10.jpg\"><br>"
   ]
  },
  {
   "cell_type": "markdown",
   "metadata": {},
   "source": [
    "* Below is a graphical presentation of the Clusters and their Neighbourhoods from each city.<br><br>\n",
    "<i> Bar Chart on the Clusters and the Neighbourhood per City distribution</i><br>\n",
    "<img src=\"Images/clustersbar.jpg\"><br>"
   ]
  },
  {
   "cell_type": "markdown",
   "metadata": {},
   "source": [
    "#### 4.2 Discussion<br>"
   ]
  },
  {
   "cell_type": "markdown",
   "metadata": {},
   "source": [
    "Let's take a closer look at the distributed Venues per Cluster.<br><br>\n",
    "<img src=\"Images/clustersall.jpg\"><br>"
   ]
  },
  {
   "cell_type": "markdown",
   "metadata": {},
   "source": [
    "As we can easily pinpoint from the above table sets, the current status quo has indeed been the main ingredient of our data results.<br>\n",
    "There are some basic groups of Venue Categories, spread throughout our Neighbourhoods, but also, in a disctinct way between the Clusters.<br>\n",
    "This can be interpreted as the current day-to-day life in those Clusters/Neighbourhoods, and what their residents have available to visit at this time.<br>\n",
    "There is the case of Cluster 5 as well, which is compromised entirelly by the current state of affairs.<br><br>\n",
    "I have the need to state once again that this analysis and approach will get entirelly different results if performed at a later time. Such an action is already in our plans, to get further insights on the \"next day\" after the lockdown.\n",
    "<br><br>\n",
    "[Back to top](#Top)"
   ]
  },
  {
   "cell_type": "markdown",
   "metadata": {},
   "source": [
    "<a id='PartFive'></a>\n",
    "****\n",
    "#### 5. Conclusion\n",
    "****"
   ]
  },
  {
   "cell_type": "markdown",
   "metadata": {},
   "source": [
    "The basic notion of this endeavour was to find similarities between the Neighbourhoods of New York City and Toronto.<br>\n",
    "I believe that this has been achieved.<br>\n",
    "Now, it is entirelly different to \"achieve\" the afformentioned end-goal and to actually see meaningfull information from the former.<br> \n",
    "It is one thing to have ones work, methods, code applied successfully in a topic and a totally different thing for it's results to have impact.<br>\n",
    "In a sense, for the writer, both have been achieved. This has been a journey like no other, trying to make code to do all the above tasks, and perform as expected."
   ]
  },
  {
   "cell_type": "markdown",
   "metadata": {},
   "source": [
    "It is clear that there are in fact similarities between our two cities Neighbourhoods, and we will continue to peruse this project with regular updates as the world inches away from this state.<br>\n",
    "The idea of someone using this tool is still valid, for business perpuses or personal, academic or otherwise.<br>\n",
    "We can see the picture forming there and the idea of expanding, and perhaps automating, such a look through two cities and their Neighbourhoods is very much appealing.<br>\n",
    "<br>\n",
    "This has been a great journey, I hope to see you again, on the next one!<br><br>\n",
    "Stay Safe!\n",
    "<br><br>\n",
    "[Back to top](#Top)"
   ]
  },
  {
   "cell_type": "code",
   "execution_count": null,
   "metadata": {},
   "outputs": [],
   "source": []
  }
 ],
 "metadata": {
  "kernelspec": {
   "display_name": "Python 3",
   "language": "python",
   "name": "python3"
  },
  "language_info": {
   "codemirror_mode": {
    "name": "ipython",
    "version": 3
   },
   "file_extension": ".py",
   "mimetype": "text/x-python",
   "name": "python",
   "nbconvert_exporter": "python",
   "pygments_lexer": "ipython3",
   "version": "3.7.6"
  }
 },
 "nbformat": 4,
 "nbformat_minor": 1
}
