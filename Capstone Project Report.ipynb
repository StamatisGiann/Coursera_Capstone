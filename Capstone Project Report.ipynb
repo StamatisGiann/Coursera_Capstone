{
 "cells": [
  {
   "cell_type": "markdown",
   "metadata": {
    "collapsed": true
   },
   "source": [
    "# IBM Applied Data Science Capstone Project\n",
    "## Week 4 Report - 1st Draft\n",
    "\n",
    "### Project Title: Clustering for Similarities in NYC & Toronto<br><br>\n",
    "#### Table of Contents\n",
    "1. [1. Introduction & Problem Statement](#PartOne)\n",
    "2. [2. Data Acquisition & Preparation](#PartTwo)"
   ]
  },
  {
   "cell_type": "markdown",
   "metadata": {},
   "source": [
    "<a id='PartOne'></a>\n",
    "****\n",
    "#### 1. Introduction & Problem Statement\n",
    "****\n",
    "\n",
    "##### 1.1 Introduction\n",
    "During this long voyage through IBM's Professional Certificate track, we've learned so much about the whole notion of using the data all around us to create stories and say something meaningful with them. This is my attempt at exactly that.\n",
    "In this Capstone Project, we will try and visualize, in different ways while using different techniques, the similarities between NYC and Toronto.\n",
    "New York City (NYC) is one of the most populous cities in the USA, having a wide range of diversity, be it cultural or otherwise. Also, we are looking at one of the most powerful states, in economic terms. Besides her ilustrious fame, acquired with the exposure in so many mediums (TV shows, movies, etc), her beauty makes her one of the most visited places in the world, for the past several years. In Nyc we have five (5) boroughs: Manhattan, Staten Island, Queens, Brooklyn and the Bronx.\n",
    "Toronto shares many of NYC's characteristics, from the get-go. Also, the most populous city in Canada, as well as being one of it's most powerful centers for businesses, manufacturing etc. Here, in Toronto, things might be a lot more toned down compared to NYC, but it's beauty is still there for travellers to enjoy.\n",
    "\n",
    "##### 1.2 Problem Statement\n",
    "Using data wragling techniques and location data we will study, analyze, cluster and compare the neighbourhoods of NYC and Toronto. We will dive headlong into the data at hand, using most of the techniques passed on to us throughout this course and try to see the similarities between the two cities. <br>\n",
    "The provided analysis and conclusion will give a better understanding to anyone interested, be it a business enthusiast, an avid traveller or just a data fan, as to what makes these two cities \"identical\" (may be a strong word!), or \"unique\"!\n",
    "We will be using our newfound techniques in order to see whether these two cities, NYC and Toronto, have similarities betwenn their Neighbourhoods. This will provide insights that can be applied in various situations. <br>\n",
    "If we're looking at this from a business perspective, let's say we have a successful business in either one cities neighbourhood; using these tools, we can get a first glance at some potential candidate locations in the other city.<br>\n",
    "The same principles can be applied even if we are just travellers, students, employees or anything for that matter, just looking how to manage a city transition between these two. Nothing feels better than home, but if, say, we have to move from NYC to Toronto (or vice versa) this can help make this big change more tolerable. <br>\n",
    "I hope you enjoy our journey!"
   ]
  },
  {
   "attachments": {},
   "cell_type": "markdown",
   "metadata": {},
   "source": [
    "<a id='PartTwo'></a>\n",
    "*****\n",
    "#### 2. Data Acquisition & Preparation\n",
    "*****\n",
    "\n",
    "##### 2.1 Data Acquisition\n",
    "We have in our disposal two basic data structures to handle; the first being our 'Neighbourhood Data' and the second, our 'Venues Data'.\n",
    "- **A. Neighbourhood Data**\n",
    "\n",
    "<i> Example location data in json format</i>\n",
    "\n",
    "<img src=\"files/Images/jsonlocdata.jpg\">\n",
    "The datasets used for our two cities came from two (2) different sources; for NYC, they were provided by the staff of IBM's \"Data Science Professional Certificate\" and for Toronto, internet scraping was used. For both, the data acquired consist of major, albeit basic, information such as Neighbourhood, Borough, Latitude and Longitude coordinates.\n",
    "- **B. Venues Data**\n",
    "\n",
    "Here we used FourSquare's API to obtain information about the venues in our cities' neighbourhoods. They consist of many different information fields, but using the right code parameters, we got just the needed fields. FourSquare is one of the largest location and venue data sources and their API was utilized to demonstrate our project idea.<br>\n",
    "<i> Example of the returned venues data, before any manipulation </i>\n",
    "\n",
    "<img src=\"files/Images/venuedata.jpg\">"
   ]
  },
  {
   "attachments": {},
   "cell_type": "markdown",
   "metadata": {},
   "source": [
    "##### 2.2 Data Preparation\n",
    "\n",
    "\n",
    "**A. Neighbourhood data**  \n",
    " - ***New York City***  \n",
    " As stated above, the dataset for NYC's neighbourhoods were provided by the course's staff. It came in a <i>.json</i> format file, with all the required information we need to divide up the city by it's inner territories. Storing the data in a <i>Panda's Dataframe</i> with the the needed data wrangling techniques, gave us the desired result. With the final data at hand, we are now able to \"explore\" NYC's neighbourhoods, at least in a basic, for now, way.\n",
    " \n",
    "<i> Example of the NYC data with coords </i>\n",
    "<img src=\"files/Images/nyfirstdata.jpg\">\n",
    "\n",
    " \n",
    " - ***Toronto***  \n",
    " For Toronto, we had to get our hands more \"dirty\", in order to compile the desired data structure. The information was provided via the Wikipedia page for Toronto's neighbourhoods ([wiki link](https://en.wikipedia.org/w/index.php?title=List_of_postal_codes_of_Canada:_M&oldid=942851379)), but on an earlier version state than the current, because of the data format used now on the wiki page, being incompatible for scraping <i>(or at least our current techniques!)</i>. This came, as epected, in <i>.html</i> format. Next, using a dataset provided yet again by the course's staff containing each of Toronto's neighbourhood' corresponding Post Code along with their respective lat/lng coordinates, in <i>.csv</i> format. Combining the two sets with the proper parameters and cleaning, the desired data structure was at our disposal.<br>\n",
    " \n",
    "<i> Example of the Toronto data with coords </i>\n",
    "<img src=\"files/Images/torontofirstdata.jpg\">"
   ]
  },
  {
   "attachments": {},
   "cell_type": "markdown",
   "metadata": {},
   "source": [
    "**A. Venues data**  \n",
    "\n",
    "The FourSquare API provided us with a large amount of venue information about our two cities. With the proper keys to use this API (as most API's need nowadays), and the right code to \"hit\" those calls succesfully towards the API, we gathered our information.\n",
    "Retrieving data and then going through all the notions to get them in the format that is needed can be a long and arduous procedure. Here comes the power of Python and its Object Oriented nature. We were able to combine the knowledge and techniques acquired through the entire specialization, in order to define 3 major functions in our code, that ultimately gave us the ability to reach our end-goal with as little as 1 line of code!\n",
    "\n",
    "\n",
    "<i>The final piece of one-line code, calling all the internal functions</i><br>\n",
    "<img src=\"files/Images/finalfunctioncall.jpg\">\n",
    "\n",
    "In further detail, first we defined the proper way to \"talk\" to FourSquare <i>(function get_near_by_venues)</i> and retrieve the basic data for our Venues, Venue Name & Category and lat/lng coordinates, in respect to their neighbourhoods.\n",
    "\n",
    "\n",
    "<i>the 1st function in line, gets us the venue data</i>\n",
    "<img src=\"files/Images/function1.jpg\">\n",
    "\n",
    "Then, defining our one-hot encoding techniques and data normalization, the data now are grouped and transformed in a way that is easier for us to understand and manipulate further. <i>(functions explore_borough and return_venues_for_boroughs)</i>\n",
    "\n",
    "\n",
    "<i>The 2 next pieces of predefined code functions, completing our functions</i>\n",
    "<img src=\"files/Images/function2.jpg\"><img src=\"files/Images/function3.jpg\">\n",
    "\n",
    "\n",
    "Finally, both datasets were in a format that was not just aligned to one another, but also provided useful information, again, within a few lines of code and the backing power of Python and Object Oriented Programming Design, with the use of functions to be used generally and on the spot.\n",
    " \n",
    " \n",
    "<i>Our returned data, with a simple line of code</i>\n",
    "<img src=\"files/Images/functionsdatareturn.jpg\">\n",
    " \n",
    "This is our first, brave step, towards our end-goal.    \n",
    "Getting our idea, around the data provided around us, then using the proper skillset and techniques, <i>(also provided abundantely with the fine example of IBM's courses)</i>, in order to have that idea tell a story.  \n",
    "A Digital Story of a Data Scientist."
   ]
  },
  {
   "cell_type": "markdown",
   "metadata": {},
   "source": []
  },
  {
   "cell_type": "markdown",
   "metadata": {},
   "source": []
  }
 ],
 "metadata": {
  "kernelspec": {
   "display_name": "Python 3",
   "language": "python",
   "name": "python3"
  },
  "language_info": {
   "codemirror_mode": {
    "name": "ipython",
    "version": 3
   },
   "file_extension": ".py",
   "mimetype": "text/x-python",
   "name": "python",
   "nbconvert_exporter": "python",
   "pygments_lexer": "ipython3",
   "version": "3.7.6"
  }
 },
 "nbformat": 4,
 "nbformat_minor": 1
}
